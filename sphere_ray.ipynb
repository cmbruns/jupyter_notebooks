{
 "cells": [
  {
   "cell_type": "markdown",
   "id": "6cedff8a",
   "metadata": {},
   "source": [
    "# Ray Casting a Sphere"
   ]
  },
  {
   "cell_type": "markdown",
   "id": "f1163faf",
   "metadata": {},
   "source": [
    "### Code"
   ]
  },
  {
   "cell_type": "code",
   "execution_count": 2,
   "id": "56234447",
   "metadata": {},
   "outputs": [],
   "source": [
    "from sympy import *\n",
    "init_printing()"
   ]
  },
  {
   "cell_type": "code",
   "execution_count": 3,
   "id": "b773ca02",
   "metadata": {},
   "outputs": [],
   "source": [
    "from matplotlib import pyplot\n",
    "%matplotlib inline"
   ]
  },
  {
   "cell_type": "code",
   "execution_count": 4,
   "id": "c5622379",
   "metadata": {
    "code_folding": [
     0
    ]
   },
   "outputs": [],
   "source": [
    "def draw_figure():\n",
    "    circle = pyplot.Circle((1.3, 0.5), 0.3, color=\"black\", fill=False)\n",
    "    fig, ax = pyplot.subplots()\n",
    "    ax.add_patch(circle)\n",
    "    pyplot.xlim(0, 2)\n",
    "    pyplot.ylim(0, 1)\n",
    "    pyplot.plot(1.3, 0.5, marker=\"o\", markersize=10, color=\"blue\")\n",
    "    pyplot.plot(1.018, 0.605, marker=\"o\", markersize=10, color=\"blue\")\n",
    "    pyplot.plot(1.50, 0.725, marker=\"o\", markersize=10, color=\"blue\")\n",
    "    pyplot.plot(0.2, 0.4, marker=\"o\", markersize=10, color=\"blue\")\n",
    "    pyplot.plot(1.87, 0.82, marker=\"o\", markersize=10, color=\"blue\")\n",
    "    pyplot.arrow(0.2, 0.4, 1.6, 0.4, head_width=0.05, color=\"black\", linestyle=\"dashed\")\n",
    "    pyplot.arrow(1.3, 0.5, -0.22, -0.15, head_width=0.02, color=\"black\")\n",
    "    pyplot.gca().set_aspect(\"equal\")\n",
    "    pyplot.gcf().set_size_inches(10, 6)\n",
    "    pyplot.annotate(\"$\\\\vec{V}$\", (0.11, 0.37), size=28)\n",
    "    pyplot.annotate(\"$\\\\vec{P}$\", (1.9, 0.80), size=28)\n",
    "    pyplot.annotate(\"$\\\\vec{F}$\", (0.94, 0.60), size=28)\n",
    "    pyplot.annotate(\"$\\\\vec{B}$\", (1.58, 0.64), size=28)\n",
    "    pyplot.annotate(\"$\\\\vec{C}$\", (1.32, 0.40), size=28)\n",
    "    pyplot.annotate(\"r\", (1.13, 0.43), size=18)\n",
    "    pyplot.axis(\"off\")\n",
    "    pyplot.title(\"Sphere Ray Casting\", size=28)"
   ]
  },
  {
   "cell_type": "markdown",
   "id": "d0df0fe5",
   "metadata": {},
   "source": [
    "### Figure 1"
   ]
  },
  {
   "cell_type": "code",
   "execution_count": 5,
   "id": "a03ea1ac",
   "metadata": {},
   "outputs": [
    {
     "data": {
      "image/png": "[encoded data removed]",
      "text/plain": [
       "<Figure size 720x432 with 1 Axes>"
      ]
     },
     "metadata": {
      "needs_background": "light"
     },
     "output_type": "display_data"
    }
   ],
   "source": [
    "draw_figure()"
   ]
  },
  {
   "cell_type": "markdown",
   "id": "cc933d07",
   "metadata": {},
   "source": [
    "$\\vec{C}$ : the center of the sphere\n",
    "\n",
    "$r$ : the radius of the sphere\n",
    "\n",
    "$\\vec{V}$ : viewpoint / camera / eye location; start of the view ray\n",
    "\n",
    "$\\vec{P}$ : the location of the imposter geometry at the current pixel; end of the view ray\n",
    "\n",
    "$\\vec{F}$ : the first / front intersection of the view ray with the sphere\n",
    "\n",
    "$\\vec{B}$ : the second / back intersection of the view ray with the sphere\n",
    "\n",
    "Given $\\vec{C}$, $r$, $\\vec{V}$, $\\vec{P}$, compute $\\vec{F}$"
   ]
  },
  {
   "cell_type": "code",
   "execution_count": 6,
   "id": "80c757f2",
   "metadata": {},
   "outputs": [
    {
     "data": {
      "text/latex": [
       "$\\displaystyle \\left( \\left[\\begin{matrix}v_{x}\\\\v_{y}\\\\v_{z}\\end{matrix}\\right], \\  \\left[\\begin{matrix}c_{x}\\\\c_{y}\\\\c_{z}\\end{matrix}\\right], \\  \\left[\\begin{matrix}p_{x}\\\\p_{y}\\\\p_{z}\\end{matrix}\\right]\\right)$"
      ],
      "text/plain": [
       "⎛⎡vₓ ⎤  ⎡cₓ ⎤  ⎡pₓ ⎤⎞\n",
       "⎜⎢   ⎥  ⎢   ⎥  ⎢   ⎥⎟\n",
       "⎜⎢v_y⎥, ⎢c_y⎥, ⎢p_y⎥⎟\n",
       "⎜⎢   ⎥  ⎢   ⎥  ⎢   ⎥⎟\n",
       "⎝⎣v_z⎦  ⎣c_z⎦  ⎣p_z⎦⎠"
      ]
     },
     "execution_count": 6,
     "metadata": {},
     "output_type": "execute_result"
    }
   ],
   "source": [
    "# View point\n",
    "v_x, v_y, v_z = symbols(\"v_x, v_y, v_z\")\n",
    "V = Matrix([v_x, v_y, v_z])\n",
    "# Sphere center\n",
    "c_x, c_y, c_z = symbols(\"c_x, c_y, c_z\")\n",
    "C = Matrix([c_x, c_y, c_z])\n",
    "# Imposter geometry position\n",
    "p_x, p_y, p_z = symbols(\"p_x, p_y, p_z\")\n",
    "P = Matrix([p_x, p_y, p_z])\n",
    "V, C, P"
   ]
  },
  {
   "cell_type": "code",
   "execution_count": 7,
   "id": "8ff87976",
   "metadata": {},
   "outputs": [],
   "source": [
    "Cv = symbols(\"\\\\vec{C}\")\n",
    "Xv = symbols(\"\\\\vec{X}\")"
   ]
  },
  {
   "cell_type": "markdown",
   "id": "eb1de0ce",
   "metadata": {},
   "source": [
    "## The Ray Equation"
   ]
  },
  {
   "cell_type": "code",
   "execution_count": 14,
   "id": "a10c6ae7",
   "metadata": {},
   "outputs": [
    {
     "data": {
      "text/latex": [
       "$\\displaystyle \\left[\\begin{matrix}x_{x}\\\\x_{y}\\\\x_{z}\\end{matrix}\\right] = \\left[\\begin{matrix}t \\left(p_{x} - v_{x}\\right) + v_{x}\\\\t \\left(p_{y} - v_{y}\\right) + v_{y}\\\\t \\left(p_{z} - v_{z}\\right) + v_{z}\\end{matrix}\\right]$"
      ],
      "text/plain": [
       "⎡xₓ ⎤   ⎡ t⋅(pₓ - vₓ) + vₓ  ⎤\n",
       "⎢   ⎥   ⎢                   ⎥\n",
       "⎢x_y⎥ = ⎢t⋅(p_y - v_y) + v_y⎥\n",
       "⎢   ⎥   ⎢                   ⎥\n",
       "⎣x_z⎦   ⎣t⋅(p_z - v_z) + v_z⎦"
      ]
     },
     "execution_count": 14,
     "metadata": {},
     "output_type": "execute_result"
    }
   ],
   "source": [
    "t = symbols(\"t\")  # The ray parameter\n",
    "x_x, x_y, x_z = symbols(\"x_x, x_y, x_z\")\n",
    "X = Matrix([x_x, x_y, x_z])  # Some point along the ray\n",
    "V + t * (P - V)\n",
    "ray_eqn = Eq(X, V + t * (P - V))\n",
    "ray_eqn"
   ]
  },
  {
   "cell_type": "markdown",
   "id": "482b1b84",
   "metadata": {},
   "source": [
    "## Implicit Sphere Equation"
   ]
  },
  {
   "cell_type": "code",
   "execution_count": 28,
   "id": "4dae8bd2",
   "metadata": {},
   "outputs": [
    {
     "data": {
      "image/png": "[encoded data removed]",
      "text/latex": [
       "$\\displaystyle r^{2} = \\left(- c_{x} + x_{x}\\right)^{2} + \\left(- c_{y} + x_{y}\\right)^{2} + \\left(- c_{z} + x_{z}\\right)^{2}$"
      ],
      "text/plain": [
       " 2             2               2               2\n",
       "r  = (-cₓ + xₓ)  + (-c_y + x_y)  + (-c_z + x_z) "
      ]
     },
     "execution_count": 28,
     "metadata": {},
     "output_type": "execute_result"
    }
   ],
   "source": [
    "r = symbols(\"r\")  # Radius of the sphere\n",
    "# Eq(r * r, (X - C) @ (X - C))\n",
    "sphere_eqn = Eq(r * r, ((X - C).T * (X - C))[0])\n",
    "sphere_eqn"
   ]
  },
  {
   "cell_type": "markdown",
   "id": "241b5ca1",
   "metadata": {},
   "source": [
    "## Plug the sphere equation into the ray equation"
   ]
  },
  {
   "cell_type": "code",
   "execution_count": 32,
   "id": "5b7fa1c3",
   "metadata": {},
   "outputs": [
    {
     "data": {
      "image/png": "[encoded data removed]",
      "text/latex": [
       "$\\displaystyle - r^{2} + \\left(- c_{x} + t \\left(p_{x} - v_{x}\\right) + v_{x}\\right)^{2} + \\left(- c_{y} + t \\left(p_{y} - v_{y}\\right) + v_{y}\\right)^{2} + \\left(- c_{z} + t \\left(p_{z} - v_{z}\\right) + v_{z}\\right)^{2}$"
      ],
      "text/plain": [
       "   2                           2                               2              \n",
       "- r  + (-cₓ + t⋅(pₓ - vₓ) + vₓ)  + (-c_y + t⋅(p_y - v_y) + v_y)  + (-c_z + t⋅(\n",
       "\n",
       "                 2\n",
       "p_z - v_z) + v_z) "
      ]
     },
     "execution_count": 32,
     "metadata": {},
     "output_type": "execute_result"
    }
   ],
   "source": [
    "eqn = ((X - C).T * (X - C))[0] - r * r\n",
    "eqn = eqn.subs(x_x, t * (p_x - v_x) + v_x)\n",
    "eqn = eqn.subs(x_y, t * (p_y - v_y) + v_y)\n",
    "eqn = eqn.subs(x_z, t * (p_z - v_z) + v_z)\n",
    "eqn"
   ]
  },
  {
   "cell_type": "code",
   "execution_count": 34,
   "id": "f5848975",
   "metadata": {},
   "outputs": [
    {
     "data": {
      "image/png": "[encoded data removed]",
      "text/latex": [
       "$\\displaystyle \\left[ \\frac{c_{x} p_{x} - c_{x} v_{x} + c_{y} p_{y} - c_{y} v_{y} + c_{z} p_{z} - c_{z} v_{z} - p_{x} v_{x} - p_{y} v_{y} - p_{z} v_{z} + v_{x}^{2} + v_{y}^{2} + v_{z}^{2} - \\sqrt{- c_{x}^{2} p_{y}^{2} + 2 c_{x}^{2} p_{y} v_{y} - c_{x}^{2} p_{z}^{2} + 2 c_{x}^{2} p_{z} v_{z} - c_{x}^{2} v_{y}^{2} - c_{x}^{2} v_{z}^{2} + 2 c_{x} c_{y} p_{x} p_{y} - 2 c_{x} c_{y} p_{x} v_{y} - 2 c_{x} c_{y} p_{y} v_{x} + 2 c_{x} c_{y} v_{x} v_{y} + 2 c_{x} c_{z} p_{x} p_{z} - 2 c_{x} c_{z} p_{x} v_{z} - 2 c_{x} c_{z} p_{z} v_{x} + 2 c_{x} c_{z} v_{x} v_{z} - 2 c_{x} p_{x} p_{y} v_{y} - 2 c_{x} p_{x} p_{z} v_{z} + 2 c_{x} p_{x} v_{y}^{2} + 2 c_{x} p_{x} v_{z}^{2} + 2 c_{x} p_{y}^{2} v_{x} - 2 c_{x} p_{y} v_{x} v_{y} + 2 c_{x} p_{z}^{2} v_{x} - 2 c_{x} p_{z} v_{x} v_{z} - c_{y}^{2} p_{x}^{2} + 2 c_{y}^{2} p_{x} v_{x} - c_{y}^{2} p_{z}^{2} + 2 c_{y}^{2} p_{z} v_{z} - c_{y}^{2} v_{x}^{2} - c_{y}^{2} v_{z}^{2} + 2 c_{y} c_{z} p_{y} p_{z} - 2 c_{y} c_{z} p_{y} v_{z} - 2 c_{y} c_{z} p_{z} v_{y} + 2 c_{y} c_{z} v_{y} v_{z} + 2 c_{y} p_{x}^{2} v_{y} - 2 c_{y} p_{x} p_{y} v_{x} - 2 c_{y} p_{x} v_{x} v_{y} - 2 c_{y} p_{y} p_{z} v_{z} + 2 c_{y} p_{y} v_{x}^{2} + 2 c_{y} p_{y} v_{z}^{2} + 2 c_{y} p_{z}^{2} v_{y} - 2 c_{y} p_{z} v_{y} v_{z} - c_{z}^{2} p_{x}^{2} + 2 c_{z}^{2} p_{x} v_{x} - c_{z}^{2} p_{y}^{2} + 2 c_{z}^{2} p_{y} v_{y} - c_{z}^{2} v_{x}^{2} - c_{z}^{2} v_{y}^{2} + 2 c_{z} p_{x}^{2} v_{z} - 2 c_{z} p_{x} p_{z} v_{x} - 2 c_{z} p_{x} v_{x} v_{z} + 2 c_{z} p_{y}^{2} v_{z} - 2 c_{z} p_{y} p_{z} v_{y} - 2 c_{z} p_{y} v_{y} v_{z} + 2 c_{z} p_{z} v_{x}^{2} + 2 c_{z} p_{z} v_{y}^{2} + p_{x}^{2} r^{2} - p_{x}^{2} v_{y}^{2} - p_{x}^{2} v_{z}^{2} + 2 p_{x} p_{y} v_{x} v_{y} + 2 p_{x} p_{z} v_{x} v_{z} - 2 p_{x} r^{2} v_{x} + p_{y}^{2} r^{2} - p_{y}^{2} v_{x}^{2} - p_{y}^{2} v_{z}^{2} + 2 p_{y} p_{z} v_{y} v_{z} - 2 p_{y} r^{2} v_{y} + p_{z}^{2} r^{2} - p_{z}^{2} v_{x}^{2} - p_{z}^{2} v_{y}^{2} - 2 p_{z} r^{2} v_{z} + r^{2} v_{x}^{2} + r^{2} v_{y}^{2} + r^{2} v_{z}^{2}}}{p_{x}^{2} - 2 p_{x} v_{x} + p_{y}^{2} - 2 p_{y} v_{y} + p_{z}^{2} - 2 p_{z} v_{z} + v_{x}^{2} + v_{y}^{2} + v_{z}^{2}}, \\  \\frac{c_{x} p_{x} - c_{x} v_{x} + c_{y} p_{y} - c_{y} v_{y} + c_{z} p_{z} - c_{z} v_{z} - p_{x} v_{x} - p_{y} v_{y} - p_{z} v_{z} + v_{x}^{2} + v_{y}^{2} + v_{z}^{2} + \\sqrt{- c_{x}^{2} p_{y}^{2} + 2 c_{x}^{2} p_{y} v_{y} - c_{x}^{2} p_{z}^{2} + 2 c_{x}^{2} p_{z} v_{z} - c_{x}^{2} v_{y}^{2} - c_{x}^{2} v_{z}^{2} + 2 c_{x} c_{y} p_{x} p_{y} - 2 c_{x} c_{y} p_{x} v_{y} - 2 c_{x} c_{y} p_{y} v_{x} + 2 c_{x} c_{y} v_{x} v_{y} + 2 c_{x} c_{z} p_{x} p_{z} - 2 c_{x} c_{z} p_{x} v_{z} - 2 c_{x} c_{z} p_{z} v_{x} + 2 c_{x} c_{z} v_{x} v_{z} - 2 c_{x} p_{x} p_{y} v_{y} - 2 c_{x} p_{x} p_{z} v_{z} + 2 c_{x} p_{x} v_{y}^{2} + 2 c_{x} p_{x} v_{z}^{2} + 2 c_{x} p_{y}^{2} v_{x} - 2 c_{x} p_{y} v_{x} v_{y} + 2 c_{x} p_{z}^{2} v_{x} - 2 c_{x} p_{z} v_{x} v_{z} - c_{y}^{2} p_{x}^{2} + 2 c_{y}^{2} p_{x} v_{x} - c_{y}^{2} p_{z}^{2} + 2 c_{y}^{2} p_{z} v_{z} - c_{y}^{2} v_{x}^{2} - c_{y}^{2} v_{z}^{2} + 2 c_{y} c_{z} p_{y} p_{z} - 2 c_{y} c_{z} p_{y} v_{z} - 2 c_{y} c_{z} p_{z} v_{y} + 2 c_{y} c_{z} v_{y} v_{z} + 2 c_{y} p_{x}^{2} v_{y} - 2 c_{y} p_{x} p_{y} v_{x} - 2 c_{y} p_{x} v_{x} v_{y} - 2 c_{y} p_{y} p_{z} v_{z} + 2 c_{y} p_{y} v_{x}^{2} + 2 c_{y} p_{y} v_{z}^{2} + 2 c_{y} p_{z}^{2} v_{y} - 2 c_{y} p_{z} v_{y} v_{z} - c_{z}^{2} p_{x}^{2} + 2 c_{z}^{2} p_{x} v_{x} - c_{z}^{2} p_{y}^{2} + 2 c_{z}^{2} p_{y} v_{y} - c_{z}^{2} v_{x}^{2} - c_{z}^{2} v_{y}^{2} + 2 c_{z} p_{x}^{2} v_{z} - 2 c_{z} p_{x} p_{z} v_{x} - 2 c_{z} p_{x} v_{x} v_{z} + 2 c_{z} p_{y}^{2} v_{z} - 2 c_{z} p_{y} p_{z} v_{y} - 2 c_{z} p_{y} v_{y} v_{z} + 2 c_{z} p_{z} v_{x}^{2} + 2 c_{z} p_{z} v_{y}^{2} + p_{x}^{2} r^{2} - p_{x}^{2} v_{y}^{2} - p_{x}^{2} v_{z}^{2} + 2 p_{x} p_{y} v_{x} v_{y} + 2 p_{x} p_{z} v_{x} v_{z} - 2 p_{x} r^{2} v_{x} + p_{y}^{2} r^{2} - p_{y}^{2} v_{x}^{2} - p_{y}^{2} v_{z}^{2} + 2 p_{y} p_{z} v_{y} v_{z} - 2 p_{y} r^{2} v_{y} + p_{z}^{2} r^{2} - p_{z}^{2} v_{x}^{2} - p_{z}^{2} v_{y}^{2} - 2 p_{z} r^{2} v_{z} + r^{2} v_{x}^{2} + r^{2} v_{y}^{2} + r^{2} v_{z}^{2}}}{p_{x}^{2} - 2 p_{x} v_{x} + p_{y}^{2} - 2 p_{y} v_{y} + p_{z}^{2} - 2 p_{z} v_{z} + v_{x}^{2} + v_{y}^{2} + v_{z}^{2}}\\right]$"
      ],
      "text/plain": [
       "⎡                                                                             \n",
       "⎢                                                                             \n",
       "⎢cₓ⋅pₓ - cₓ⋅vₓ + c_y⋅p_y - c_y⋅v_y + c_z⋅p_z - c_z⋅v_z - pₓ⋅vₓ - p_y⋅v_y - p_z\n",
       "⎢─────────────────────────────────────────────────────────────────────────────\n",
       "⎢                                                                             \n",
       "⎣                                                                             \n",
       "\n",
       "                              ________________________________________________\n",
       "         2      2      2     ╱     2    2       2             2    2       2  \n",
       "⋅v_z + vₓ  + v_y  + v_z  - ╲╱  - cₓ ⋅p_y  + 2⋅cₓ ⋅p_y⋅v_y - cₓ ⋅p_z  + 2⋅cₓ ⋅p\n",
       "──────────────────────────────────────────────────────────────────────────────\n",
       "                                                                              \n",
       "                                                                              \n",
       "\n",
       "______________________________________________________________________________\n",
       "           2    2     2    2                                                  \n",
       "_z⋅v_z - cₓ ⋅v_y  - cₓ ⋅v_z  + 2⋅cₓ⋅c_y⋅pₓ⋅p_y - 2⋅cₓ⋅c_y⋅pₓ⋅v_y - 2⋅cₓ⋅c_y⋅p_\n",
       "──────────────────────────────────────────────────────────────────────────────\n",
       "                                                                              \n",
       "                                                                              \n",
       "\n",
       "______________________________________________________________________________\n",
       "                                                                              \n",
       "y⋅vₓ + 2⋅cₓ⋅c_y⋅vₓ⋅v_y + 2⋅cₓ⋅c_z⋅pₓ⋅p_z - 2⋅cₓ⋅c_z⋅pₓ⋅v_z - 2⋅cₓ⋅c_z⋅p_z⋅vₓ +\n",
       "──────────────────────────────────────────────────────────────────────────────\n",
       "                                                                              \n",
       "                                                                              \n",
       "\n",
       "______________________________________________________________________________\n",
       "                                                                  2           \n",
       " 2⋅cₓ⋅c_z⋅vₓ⋅v_z - 2⋅cₓ⋅pₓ⋅p_y⋅v_y - 2⋅cₓ⋅pₓ⋅p_z⋅v_z + 2⋅cₓ⋅pₓ⋅v_y  + 2⋅cₓ⋅pₓ⋅\n",
       "──────────────────────────────────────────────────────────────────────────────\n",
       "                                                                              \n",
       "                                                                              \n",
       "\n",
       "______________________________________________________________________________\n",
       "   2           2                                2                           2 \n",
       "v_z  + 2⋅cₓ⋅p_y ⋅vₓ - 2⋅cₓ⋅p_y⋅vₓ⋅v_y + 2⋅cₓ⋅p_z ⋅vₓ - 2⋅cₓ⋅p_z⋅vₓ⋅v_z - c_y ⋅\n",
       "──────────────────────────────────────────────────────────────────────────────\n",
       "                                                                              \n",
       "                                                                              \n",
       "\n",
       "______________________________________________________________________________\n",
       "  2        2            2    2        2              2   2      2    2        \n",
       "pₓ  + 2⋅c_y ⋅pₓ⋅vₓ - c_y ⋅p_z  + 2⋅c_y ⋅p_z⋅v_z - c_y ⋅vₓ  - c_y ⋅v_z  + 2⋅c_y\n",
       "──────────────────────────────────────────────────────────────────────────────\n",
       "                                                                              \n",
       "                                                                              \n",
       "\n",
       "______________________________________________________________________________\n",
       "                                                                              \n",
       "⋅c_z⋅p_y⋅p_z - 2⋅c_y⋅c_z⋅p_y⋅v_z - 2⋅c_y⋅c_z⋅p_z⋅v_y + 2⋅c_y⋅c_z⋅v_y⋅v_z + 2⋅c\n",
       "──────────────────────────────────────────────────────────────────────────────\n",
       "                        2                2                  2                 \n",
       "                      pₓ  - 2⋅pₓ⋅vₓ + p_y  - 2⋅p_y⋅v_y + p_z  - 2⋅p_z⋅v_z + vₓ\n",
       "\n",
       "______________________________________________________________________________\n",
       "     2                                                                        \n",
       "_y⋅pₓ ⋅v_y - 2⋅c_y⋅pₓ⋅p_y⋅vₓ - 2⋅c_y⋅pₓ⋅vₓ⋅v_y - 2⋅c_y⋅p_y⋅p_z⋅v_z + 2⋅c_y⋅p_y\n",
       "──────────────────────────────────────────────────────────────────────────────\n",
       "2      2      2                                                               \n",
       "  + v_y  + v_z                                                                \n",
       "\n",
       "______________________________________________________________________________\n",
       "   2                2            2                              2   2        2\n",
       "⋅vₓ  + 2⋅c_y⋅p_y⋅v_z  + 2⋅c_y⋅p_z ⋅v_y - 2⋅c_y⋅p_z⋅v_y⋅v_z - c_z ⋅pₓ  + 2⋅c_z \n",
       "──────────────────────────────────────────────────────────────────────────────\n",
       "                                                                              \n",
       "                                                                              \n",
       "\n",
       "______________________________________________________________________________\n",
       "            2    2        2              2   2      2    2           2        \n",
       "⋅pₓ⋅vₓ - c_z ⋅p_y  + 2⋅c_z ⋅p_y⋅v_y - c_z ⋅vₓ  - c_z ⋅v_y  + 2⋅c_z⋅pₓ ⋅v_z - 2\n",
       "──────────────────────────────────────────────────────────────────────────────\n",
       "                                                                              \n",
       "                                                                              \n",
       "\n",
       "______________________________________________________________________________\n",
       "                                            2                                 \n",
       "⋅c_z⋅pₓ⋅p_z⋅vₓ - 2⋅c_z⋅pₓ⋅vₓ⋅v_z + 2⋅c_z⋅p_y ⋅v_z - 2⋅c_z⋅p_y⋅p_z⋅v_y - 2⋅c_z⋅\n",
       "──────────────────────────────────────────────────────────────────────────────\n",
       "                                                                              \n",
       "                                                                              \n",
       "\n",
       "______________________________________________________________________________\n",
       "                          2                2     2  2     2    2     2    2   \n",
       "p_y⋅v_y⋅v_z + 2⋅c_z⋅p_z⋅vₓ  + 2⋅c_z⋅p_z⋅v_y  + pₓ ⋅r  - pₓ ⋅v_y  - pₓ ⋅v_z  + \n",
       "──────────────────────────────────────────────────────────────────────────────\n",
       "                                                                              \n",
       "                                                                              \n",
       "\n",
       "______________________________________________________________________________\n",
       "                                          2         2  2      2   2      2    \n",
       "2⋅pₓ⋅p_y⋅vₓ⋅v_y + 2⋅pₓ⋅p_z⋅vₓ⋅v_z - 2⋅pₓ⋅r ⋅vₓ + p_y ⋅r  - p_y ⋅vₓ  - p_y ⋅v_z\n",
       "──────────────────────────────────────────────────────────────────────────────\n",
       "                                                                              \n",
       "                                                                              \n",
       "\n",
       "______________________________________________________________________________\n",
       "2                              2          2  2      2   2      2    2         \n",
       "  + 2⋅p_y⋅p_z⋅v_y⋅v_z - 2⋅p_y⋅r ⋅v_y + p_z ⋅r  - p_z ⋅vₓ  - p_z ⋅v_y  - 2⋅p_z⋅\n",
       "──────────────────────────────────────────────────────────────────────────────\n",
       "                                                                              \n",
       "                                                                              \n",
       "\n",
       "____________________________________                                          \n",
       " 2        2   2    2    2    2    2                                           \n",
       "r ⋅v_z + r ⋅vₓ  + r ⋅v_y  + r ⋅v_z    cₓ⋅pₓ - cₓ⋅vₓ + c_y⋅p_y - c_y⋅v_y + c_z⋅\n",
       "────────────────────────────────────, ────────────────────────────────────────\n",
       "                                                                              \n",
       "                                                                              \n",
       "\n",
       "                                                                   ___________\n",
       "                                              2      2      2     ╱     2    2\n",
       "p_z - c_z⋅v_z - pₓ⋅vₓ - p_y⋅v_y - p_z⋅v_z + vₓ  + v_y  + v_z  + ╲╱  - cₓ ⋅p_y \n",
       "──────────────────────────────────────────────────────────────────────────────\n",
       "                                                                              \n",
       "                                                                              \n",
       "\n",
       "______________________________________________________________________________\n",
       "       2             2    2       2             2    2     2    2             \n",
       " + 2⋅cₓ ⋅p_y⋅v_y - cₓ ⋅p_z  + 2⋅cₓ ⋅p_z⋅v_z - cₓ ⋅v_y  - cₓ ⋅v_z  + 2⋅cₓ⋅c_y⋅p\n",
       "──────────────────────────────────────────────────────────────────────────────\n",
       "                                                                              \n",
       "                                                                              \n",
       "\n",
       "______________________________________________________________________________\n",
       "                                                                              \n",
       "ₓ⋅p_y - 2⋅cₓ⋅c_y⋅pₓ⋅v_y - 2⋅cₓ⋅c_y⋅p_y⋅vₓ + 2⋅cₓ⋅c_y⋅vₓ⋅v_y + 2⋅cₓ⋅c_z⋅pₓ⋅p_z \n",
       "──────────────────────────────────────────────────────────────────────────────\n",
       "                                                                              \n",
       "                                                                              \n",
       "\n",
       "______________________________________________________________________________\n",
       "                                                                              \n",
       "- 2⋅cₓ⋅c_z⋅pₓ⋅v_z - 2⋅cₓ⋅c_z⋅p_z⋅vₓ + 2⋅cₓ⋅c_z⋅vₓ⋅v_z - 2⋅cₓ⋅pₓ⋅p_y⋅v_y - 2⋅cₓ\n",
       "──────────────────────────────────────────────────────────────────────────────\n",
       "                                                                              \n",
       "                                                                              \n",
       "\n",
       "______________________________________________________________________________\n",
       "                         2              2           2                         \n",
       "⋅pₓ⋅p_z⋅v_z + 2⋅cₓ⋅pₓ⋅v_y  + 2⋅cₓ⋅pₓ⋅v_z  + 2⋅cₓ⋅p_y ⋅vₓ - 2⋅cₓ⋅p_y⋅vₓ⋅v_y + 2\n",
       "──────────────────────────────────────────────────────────────────────────────\n",
       "                                                                              \n",
       "                                                                              \n",
       "\n",
       "______________________________________________________________________________\n",
       "       2                           2   2        2            2    2        2  \n",
       "⋅cₓ⋅p_z ⋅vₓ - 2⋅cₓ⋅p_z⋅vₓ⋅v_z - c_y ⋅pₓ  + 2⋅c_y ⋅pₓ⋅vₓ - c_y ⋅p_z  + 2⋅c_y ⋅p\n",
       "──────────────────────────────────────────────────────────────────────────────\n",
       "                                                                              \n",
       "                                                                              \n",
       "\n",
       "______________________________________________________________________________\n",
       "            2   2      2    2                                                 \n",
       "_z⋅v_z - c_y ⋅vₓ  - c_y ⋅v_z  + 2⋅c_y⋅c_z⋅p_y⋅p_z - 2⋅c_y⋅c_z⋅p_y⋅v_z - 2⋅c_y⋅\n",
       "──────────────────────────────────────────────────────────────────────────────\n",
       "                                                             2                \n",
       "                                                           pₓ  - 2⋅pₓ⋅vₓ + p_y\n",
       "\n",
       "______________________________________________________________________________\n",
       "                                          2                                   \n",
       "c_z⋅p_z⋅v_y + 2⋅c_y⋅c_z⋅v_y⋅v_z + 2⋅c_y⋅pₓ ⋅v_y - 2⋅c_y⋅pₓ⋅p_y⋅vₓ - 2⋅c_y⋅pₓ⋅v\n",
       "──────────────────────────────────────────────────────────────────────────────\n",
       "2                  2                 2      2      2                          \n",
       "  - 2⋅p_y⋅v_y + p_z  - 2⋅p_z⋅v_z + vₓ  + v_y  + v_z                           \n",
       "\n",
       "______________________________________________________________________________\n",
       "                                        2                2            2       \n",
       "ₓ⋅v_y - 2⋅c_y⋅p_y⋅p_z⋅v_z + 2⋅c_y⋅p_y⋅vₓ  + 2⋅c_y⋅p_y⋅v_z  + 2⋅c_y⋅p_z ⋅v_y - \n",
       "──────────────────────────────────────────────────────────────────────────────\n",
       "                                                                              \n",
       "                                                                              \n",
       "\n",
       "______________________________________________________________________________\n",
       "                       2   2        2            2    2        2              \n",
       "2⋅c_y⋅p_z⋅v_y⋅v_z - c_z ⋅pₓ  + 2⋅c_z ⋅pₓ⋅vₓ - c_z ⋅p_y  + 2⋅c_z ⋅p_y⋅v_y - c_z\n",
       "──────────────────────────────────────────────────────────────────────────────\n",
       "                                                                              \n",
       "                                                                              \n",
       "\n",
       "______________________________________________________________________________\n",
       "2   2      2    2           2                                                 \n",
       " ⋅vₓ  - c_z ⋅v_y  + 2⋅c_z⋅pₓ ⋅v_z - 2⋅c_z⋅pₓ⋅p_z⋅vₓ - 2⋅c_z⋅pₓ⋅vₓ⋅v_z + 2⋅c_z⋅\n",
       "──────────────────────────────────────────────────────────────────────────────\n",
       "                                                                              \n",
       "                                                                              \n",
       "\n",
       "______________________________________________________________________________\n",
       "   2                                                           2              \n",
       "p_y ⋅v_z - 2⋅c_z⋅p_y⋅p_z⋅v_y - 2⋅c_z⋅p_y⋅v_y⋅v_z + 2⋅c_z⋅p_z⋅vₓ  + 2⋅c_z⋅p_z⋅v\n",
       "──────────────────────────────────────────────────────────────────────────────\n",
       "                                                                              \n",
       "                                                                              \n",
       "\n",
       "______________________________________________________________________________\n",
       "  2     2  2     2    2     2    2                                            \n",
       "_y  + pₓ ⋅r  - pₓ ⋅v_y  - pₓ ⋅v_z  + 2⋅pₓ⋅p_y⋅vₓ⋅v_y + 2⋅pₓ⋅p_z⋅vₓ⋅v_z - 2⋅pₓ⋅\n",
       "──────────────────────────────────────────────────────────────────────────────\n",
       "                                                                              \n",
       "                                                                              \n",
       "\n",
       "______________________________________________________________________________\n",
       " 2         2  2      2   2      2    2                              2         \n",
       "r ⋅vₓ + p_y ⋅r  - p_y ⋅vₓ  - p_y ⋅v_z  + 2⋅p_y⋅p_z⋅v_y⋅v_z - 2⋅p_y⋅r ⋅v_y + p_\n",
       "──────────────────────────────────────────────────────────────────────────────\n",
       "                                                                              \n",
       "                                                                              \n",
       "\n",
       "_________________________________________________________________________⎤\n",
       " 2  2      2   2      2    2          2        2   2    2    2    2    2 ⎥\n",
       "z ⋅r  - p_z ⋅vₓ  - p_z ⋅v_y  - 2⋅p_z⋅r ⋅v_z + r ⋅vₓ  + r ⋅v_y  + r ⋅v_z  ⎥\n",
       "─────────────────────────────────────────────────────────────────────────⎥\n",
       "                                                                         ⎥\n",
       "                                                                         ⎦"
      ]
     },
     "execution_count": 34,
     "metadata": {},
     "output_type": "execute_result"
    }
   ],
   "source": [
    "t_eqn = solve(eqn, t)\n",
    "t_eqn"
   ]
  },
  {
   "cell_type": "code",
   "execution_count": 36,
   "id": "82d32754",
   "metadata": {},
   "outputs": [
    {
     "data": {
      "image/png": "[encoded data removed]",
      "text/latex": [
       "$\\displaystyle \\frac{c_{x} p_{x} + c_{y} p_{y} + c_{z} p_{z} - \\sqrt{- c_{x}^{2} p_{y}^{2} - c_{x}^{2} p_{z}^{2} + 2 c_{x} c_{y} p_{x} p_{y} + 2 c_{x} c_{z} p_{x} p_{z} - c_{y}^{2} p_{x}^{2} - c_{y}^{2} p_{z}^{2} + 2 c_{y} c_{z} p_{y} p_{z} - c_{z}^{2} p_{x}^{2} - c_{z}^{2} p_{y}^{2} + p_{x}^{2} r^{2} + p_{y}^{2} r^{2} + p_{z}^{2} r^{2}}}{p_{x}^{2} + p_{y}^{2} + p_{z}^{2}}$"
      ],
      "text/plain": [
       "                               _______________________________________________\n",
       "                              ╱     2    2     2    2                         \n",
       "cₓ⋅pₓ + c_y⋅p_y + c_z⋅p_z - ╲╱  - cₓ ⋅p_y  - cₓ ⋅p_z  + 2⋅cₓ⋅c_y⋅pₓ⋅p_y + 2⋅cₓ\n",
       "──────────────────────────────────────────────────────────────────────────────\n",
       "                                                                              \n",
       "                                                                              \n",
       "\n",
       "______________________________________________________________________________\n",
       "                 2   2      2    2                          2   2      2    2 \n",
       "⋅c_z⋅pₓ⋅p_z - c_y ⋅pₓ  - c_y ⋅p_z  + 2⋅c_y⋅c_z⋅p_y⋅p_z - c_z ⋅pₓ  - c_z ⋅p_y  \n",
       "──────────────────────────────────────────────────────────────────────────────\n",
       "        2      2      2                                                       \n",
       "      pₓ  + p_y  + p_z                                                        \n",
       "\n",
       "_____________________________\n",
       "    2  2      2  2      2  2 \n",
       "+ pₓ ⋅r  + p_y ⋅r  + p_z ⋅r  \n",
       "─────────────────────────────\n",
       "                             \n",
       "                             "
      ]
     },
     "execution_count": 36,
     "metadata": {},
     "output_type": "execute_result"
    }
   ],
   "source": [
    "# Case: viewpoint at origin:\n",
    "view_origin_t_eqn = simplify(t_eqn[0].subs(v_x, 0).subs(v_y, 0).subs(v_z, 0))\n",
    "view_origin_t_eqn"
   ]
  },
  {
   "cell_type": "code",
   "execution_count": 37,
   "id": "8d8ad4ec",
   "metadata": {},
   "outputs": [
    {
     "data": {
      "image/png": "[encoded data removed]",
      "text/latex": [
       "$\\displaystyle \\frac{- p_{x} v_{x} - p_{y} v_{y} - p_{z} v_{z} + v_{x}^{2} + v_{y}^{2} + v_{z}^{2} - \\sqrt{p_{x}^{2} r^{2} - p_{x}^{2} v_{y}^{2} - p_{x}^{2} v_{z}^{2} + 2 p_{x} p_{y} v_{x} v_{y} + 2 p_{x} p_{z} v_{x} v_{z} - 2 p_{x} r^{2} v_{x} + p_{y}^{2} r^{2} - p_{y}^{2} v_{x}^{2} - p_{y}^{2} v_{z}^{2} + 2 p_{y} p_{z} v_{y} v_{z} - 2 p_{y} r^{2} v_{y} + p_{z}^{2} r^{2} - p_{z}^{2} v_{x}^{2} - p_{z}^{2} v_{y}^{2} - 2 p_{z} r^{2} v_{z} + r^{2} v_{x}^{2} + r^{2} v_{y}^{2} + r^{2} v_{z}^{2}}}{p_{x}^{2} - 2 p_{x} v_{x} + p_{y}^{2} - 2 p_{y} v_{y} + p_{z}^{2} - 2 p_{z} v_{z} + v_{x}^{2} + v_{y}^{2} + v_{z}^{2}}$"
      ],
      "text/plain": [
       "                                                    __________________________\n",
       "                               2      2      2     ╱   2  2     2    2     2  \n",
       "-pₓ⋅vₓ - p_y⋅v_y - p_z⋅v_z + vₓ  + v_y  + v_z  - ╲╱  pₓ ⋅r  - pₓ ⋅v_y  - pₓ ⋅v\n",
       "──────────────────────────────────────────────────────────────────────────────\n",
       "                                                                              \n",
       "                                                                              \n",
       "\n",
       "______________________________________________________________________________\n",
       "  2                                             2         2  2      2   2     \n",
       "_z  + 2⋅pₓ⋅p_y⋅vₓ⋅v_y + 2⋅pₓ⋅p_z⋅vₓ⋅v_z - 2⋅pₓ⋅r ⋅vₓ + p_y ⋅r  - p_y ⋅vₓ  - p_\n",
       "──────────────────────────────────────────────────────────────────────────────\n",
       "                          2                2                  2               \n",
       "                        pₓ  - 2⋅pₓ⋅vₓ + p_y  - 2⋅p_y⋅v_y + p_z  - 2⋅p_z⋅v_z + \n",
       "\n",
       "______________________________________________________________________________\n",
       " 2    2                              2          2  2      2   2      2    2   \n",
       "y ⋅v_z  + 2⋅p_y⋅p_z⋅v_y⋅v_z - 2⋅p_y⋅r ⋅v_y + p_z ⋅r  - p_z ⋅vₓ  - p_z ⋅v_y  - \n",
       "──────────────────────────────────────────────────────────────────────────────\n",
       "  2      2      2                                                             \n",
       "vₓ  + v_y  + v_z                                                              \n",
       "\n",
       "__________________________________________\n",
       "       2        2   2    2    2    2    2 \n",
       "2⋅p_z⋅r ⋅v_z + r ⋅vₓ  + r ⋅v_y  + r ⋅v_z  \n",
       "──────────────────────────────────────────\n",
       "                                          \n",
       "                                          "
      ]
     },
     "execution_count": 37,
     "metadata": {},
     "output_type": "execute_result"
    }
   ],
   "source": [
    "# Case: sphere at origin\n",
    "sphere_origin_t_eqn = simplify(t_eqn[0].subs(c_x, 0).subs(c_y, 0).subs(c_z, 0))\n",
    "sphere_origin_t_eqn"
   ]
  },
  {
   "cell_type": "code",
   "execution_count": null,
   "id": "1167ca0b",
   "metadata": {},
   "outputs": [],
   "source": []
  }
 ],
 "metadata": {
  "kernelspec": {
   "display_name": "Python 3 (ipykernel)",
   "language": "python",
   "name": "python3"
  },
  "language_info": {
   "codemirror_mode": {
    "name": "ipython",
    "version": 3
   },
   "file_extension": ".py",
   "mimetype": "text/x-python",
   "name": "python",
   "nbconvert_exporter": "python",
   "pygments_lexer": "ipython3",
   "version": "3.9.6"
  }
 },
 "nbformat": 4,
 "nbformat_minor": 5
}
