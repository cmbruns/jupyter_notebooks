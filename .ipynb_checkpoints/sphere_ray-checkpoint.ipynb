{
 "cells": [
  {
   "cell_type": "code",
   "execution_count": 128,
   "id": "56234447",
   "metadata": {},
   "outputs": [],
   "source": [
    "from sympy import *\n",
    "init_printing()"
   ]
  },
  {
   "cell_type": "code",
   "execution_count": 129,
   "id": "7ee45a10",
   "metadata": {},
   "outputs": [
    {
     "data": {
      "image/png": "[encoded data removed]",
      "text/latex": [
       "$\\displaystyle x$"
      ],
      "text/plain": [
       "x"
      ]
     },
     "execution_count": 129,
     "metadata": {},
     "output_type": "execute_result"
    }
   ],
   "source": [
    "x = symbols(\"x\")\n",
    "x"
   ]
  },
  {
   "cell_type": "code",
   "execution_count": 138,
   "id": "a03ea1ac",
   "metadata": {},
   "outputs": [
    {
     "data": {
      "text/plain": [
       "Text(0.5, 1.0, 'Sphere Ray Casting')"
      ]
     },
     "execution_count": 138,
     "metadata": {},
     "output_type": "execute_result"
    },
    {
     "data": {
      "image/png": "[encoded data removed]",
      "text/plain": [
       "<Figure size 720x432 with 1 Axes>"
      ]
     },
     "metadata": {
      "needs_background": "light"
     },
     "output_type": "display_data"
    }
   ],
   "source": [
    "from matplotlib import pyplot\n",
    "%matplotlib inline\n",
    "\n",
    "circle = pyplot.Circle((1.3, 0.5), 0.3, color=\"black\", fill=False)\n",
    "\n",
    "fig, ax = pyplot.subplots()\n",
    "\n",
    "ax.add_patch(circle)\n",
    "pyplot.xlim(0, 2)\n",
    "pyplot.ylim(0, 1)\n",
    "pyplot.plot(1.3, 0.5, marker=\"o\", markersize=10, color=\"blue\")\n",
    "pyplot.plot(1.018, 0.605, marker=\"o\", markersize=10, color=\"blue\")\n",
    "pyplot.plot(1.50, 0.725, marker=\"o\", markersize=10, color=\"blue\")\n",
    "pyplot.plot(0.2, 0.4, marker=\"o\", markersize=10, color=\"blue\")\n",
    "pyplot.plot(1.87, 0.82, marker=\"o\", markersize=10, color=\"blue\")\n",
    "pyplot.arrow(0.2, 0.4, 1.6, 0.4, head_width=0.05, color=\"black\", linestyle=\"dashed\")\n",
    "pyplot.arrow(1.3, 0.5, -0.22, -0.15, head_width=0.02, color=\"black\")\n",
    "pyplot.gca().set_aspect(\"equal\")\n",
    "pyplot.gcf().set_size_inches(10, 6)\n",
    "pyplot.annotate(\"$\\\\vec{V}$\", (0.11, 0.37), size=28)\n",
    "pyplot.annotate(\"$\\\\vec{P}$\", (1.9, 0.80), size=28)\n",
    "pyplot.annotate(\"$\\\\vec{F}$\", (0.94, 0.60), size=28)\n",
    "pyplot.annotate(\"$\\\\vec{B}$\", (1.58, 0.64), size=28)\n",
    "pyplot.annotate(\"$\\\\vec{C}$\", (1.32, 0.40), size=28)\n",
    "pyplot.annotate(\"r\", (1.13, 0.43), size=18)\n",
    "pyplot.axis(\"off\")\n",
    "pyplot.title(\"Sphere Ray Casting\", size=28)\n"
   ]
  },
  {
   "cell_type": "code",
   "execution_count": 133,
   "id": "80c757f2",
   "metadata": {},
   "outputs": [
    {
     "data": {
      "text/latex": [
       "$\\displaystyle \\left( \\left[\\begin{matrix}v_{x}\\\\v_{y}\\\\v_{z}\\end{matrix}\\right], \\  \\left[\\begin{matrix}c_{x}\\\\c_{y}\\\\c_{z}\\end{matrix}\\right], \\  \\left[\\begin{matrix}p_{x}\\\\p_{y}\\\\p_{z}\\end{matrix}\\right]\\right)$"
      ],
      "text/plain": [
       "⎛⎡vₓ ⎤  ⎡cₓ ⎤  ⎡pₓ ⎤⎞\n",
       "⎜⎢   ⎥  ⎢   ⎥  ⎢   ⎥⎟\n",
       "⎜⎢v_y⎥, ⎢c_y⎥, ⎢p_y⎥⎟\n",
       "⎜⎢   ⎥  ⎢   ⎥  ⎢   ⎥⎟\n",
       "⎝⎣v_z⎦  ⎣c_z⎦  ⎣p_z⎦⎠"
      ]
     },
     "execution_count": 133,
     "metadata": {},
     "output_type": "execute_result"
    }
   ],
   "source": [
    "# View point\n",
    "v_x, v_y, v_z = symbols(\"v_x, v_y, v_z\")\n",
    "V = Matrix([v_x, v_y, v_z])\n",
    "# Sphere center\n",
    "c_x, c_y, c_z = symbols(\"c_x, c_y, c_z\")\n",
    "C = Matrix([c_x, c_y, c_z])\n",
    "# Imposter geometry position\n",
    "p_x, p_y, p_z = symbols(\"p_x, p_y, p_z\")\n",
    "P = Matrix([p_x, p_y, p_z])\n",
    "V, C, P"
   ]
  },
  {
   "cell_type": "code",
   "execution_count": null,
   "id": "8ff87976",
   "metadata": {},
   "outputs": [],
   "source": []
  }
 ],
 "metadata": {
  "kernelspec": {
   "display_name": "Python 3 (ipykernel)",
   "language": "python",
   "name": "python3"
  },
  "language_info": {
   "codemirror_mode": {
    "name": "ipython",
    "version": 3
   },
   "file_extension": ".py",
   "mimetype": "text/x-python",
   "name": "python",
   "nbconvert_exporter": "python",
   "pygments_lexer": "ipython3",
   "version": "3.9.6"
  }
 },
 "nbformat": 4,
 "nbformat_minor": 5
}
